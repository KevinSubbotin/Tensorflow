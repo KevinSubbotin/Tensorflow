{
 "cells": [
  {
   "cell_type": "code",
   "execution_count": 1,
   "metadata": {},
   "outputs": [],
   "source": [
    "import numpy as np\n",
    "import pandas as pd\n",
    "import matplotlib.pyplot as plt\n",
    "import seaborn as sns\n"
   ]
  },
  {
   "cell_type": "code",
   "execution_count": 11,
   "metadata": {},
   "outputs": [
    {
     "name": "stdout",
     "output_type": "stream",
     "text": [
      "push testung\n",
      "            Date      Time  CO(GT)  PT08.S1(CO)  NMHC(GT)  C6H6(GT)  \\\n",
      "0     10/03/2004  18.00.00     2.6       1360.0     150.0      11.9   \n",
      "1     10/03/2004  19.00.00     2.0       1292.0     112.0       9.4   \n",
      "2     10/03/2004  20.00.00     2.2       1402.0      88.0       9.0   \n",
      "3     10/03/2004  21.00.00     2.2       1376.0      80.0       9.2   \n",
      "4     10/03/2004  22.00.00     1.6       1272.0      51.0       6.5   \n",
      "...          ...       ...     ...          ...       ...       ...   \n",
      "9466         NaN       NaN     NaN          NaN       NaN       NaN   \n",
      "9467         NaN       NaN     NaN          NaN       NaN       NaN   \n",
      "9468         NaN       NaN     NaN          NaN       NaN       NaN   \n",
      "9469         NaN       NaN     NaN          NaN       NaN       NaN   \n",
      "9470         NaN       NaN     NaN          NaN       NaN       NaN   \n",
      "\n",
      "      PT08.S2(NMHC)  NOx(GT)  PT08.S3(NOx)  NO2(GT)  PT08.S4(NO2)  \\\n",
      "0            1046.0    166.0        1056.0    113.0        1692.0   \n",
      "1             955.0    103.0        1174.0     92.0        1559.0   \n",
      "2             939.0    131.0        1140.0    114.0        1555.0   \n",
      "3             948.0    172.0        1092.0    122.0        1584.0   \n",
      "4             836.0    131.0        1205.0    116.0        1490.0   \n",
      "...             ...      ...           ...      ...           ...   \n",
      "9466            NaN      NaN           NaN      NaN           NaN   \n",
      "9467            NaN      NaN           NaN      NaN           NaN   \n",
      "9468            NaN      NaN           NaN      NaN           NaN   \n",
      "9469            NaN      NaN           NaN      NaN           NaN   \n",
      "9470            NaN      NaN           NaN      NaN           NaN   \n",
      "\n",
      "      PT08.S5(O3)     T    RH      AH  Unnamed: 15  Unnamed: 16  \n",
      "0          1268.0  13.6  48.9  0.7578          NaN          NaN  \n",
      "1           972.0  13.3  47.7  0.7255          NaN          NaN  \n",
      "2          1074.0  11.9  54.0  0.7502          NaN          NaN  \n",
      "3          1203.0  11.0  60.0  0.7867          NaN          NaN  \n",
      "4          1110.0  11.2  59.6  0.7888          NaN          NaN  \n",
      "...           ...   ...   ...     ...          ...          ...  \n",
      "9466          NaN   NaN   NaN     NaN          NaN          NaN  \n",
      "9467          NaN   NaN   NaN     NaN          NaN          NaN  \n",
      "9468          NaN   NaN   NaN     NaN          NaN          NaN  \n",
      "9469          NaN   NaN   NaN     NaN          NaN          NaN  \n",
      "9470          NaN   NaN   NaN     NaN          NaN          NaN  \n",
      "\n",
      "[9471 rows x 17 columns]\n"
     ]
    }
   ],
   "source": [
    "df = pd.read_csv(\"/Users/kevinsubbotin/tensorflow/Data/AirQualityUCI.csv\", sep=';', decimal=',')\n",
    "df\n",
    "print(\"push testung\")\n",
    "print(\"Branch Testung\")\n",
    "print(\"Branch auf windows Testung\")\n",
    "print(\"mac to windows\")\n",
    "print(df)\n"
   ]
  }
 ],
 "metadata": {
  "kernelspec": {
   "display_name": "Python 3",
   "language": "python",
   "name": "python3"
  },
  "language_info": {
   "codemirror_mode": {
    "name": "ipython",
    "version": 3
   },
   "file_extension": ".py",
   "mimetype": "text/x-python",
   "name": "python",
   "nbconvert_exporter": "python",
   "pygments_lexer": "ipython3",
   "version": "3.8.18"
  }
 },
 "nbformat": 4,
 "nbformat_minor": 2
}
